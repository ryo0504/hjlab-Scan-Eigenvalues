{
 "cells": [
  {
   "cell_type": "code",
   "execution_count": 76,
   "id": "643c4488-866a-4f39-8bd4-31c9efc00708",
   "metadata": {},
   "outputs": [],
   "source": [
    "import codecs\n",
    "import glob\n",
    "import math\n",
    "import os\n",
    "from decimal import Decimal\n",
    "import pandas as pd\n",
    "import matplotlib.pyplot as plt\n",
    "from matplotlib import cm"
   ]
  },
  {
   "cell_type": "code",
   "execution_count": 77,
   "id": "6165759c-e6be-4a38-afc8-2588123ab732",
   "metadata": {},
   "outputs": [],
   "source": [
    "file_name = \"data/input/sa2_OH_ct-Wscan_h.out\"\n",
    "file_name2 = \"data/input/SAa1_1A_OH_Wscan.out\"\n",
    "df = pd.read_table(file_name2)"
   ]
  },
  {
   "cell_type": "code",
   "execution_count": 78,
   "id": "2e32b2d0-dfbc-41d3-976e-c1c870816437",
   "metadata": {},
   "outputs": [],
   "source": [
    "initial_key = \"HF=\"\n",
    "end_key = \"RMSD=\""
   ]
  },
  {
   "cell_type": "code",
   "execution_count": 79,
   "id": "c3f487f1-c224-443c-a556-0bcc01bc2ef8",
   "metadata": {},
   "outputs": [],
   "source": [
    "# initial_keyを含む行を抜き出す\n",
    "initial_key_df = df[df[df.columns[0]].str.contains(initial_key, case=False)]\n",
    "initial_key_index = initial_key_df.index[0]\n",
    "df = df.iloc[initial_key_index:]\n",
    "# initial_keyを含む行以降のend_keyを含む行を抜き出す\n",
    "end_key_df = df[df[df.columns[0]].str.contains(end_key)]\n",
    "# dfを更新しているのでここでの行番号は0から始まる\n",
    "end_key_index = end_key_df.index[0] - initial_key_index\n",
    "df = df.iloc[:end_key_index + 1]\n",
    "\n",
    "df = df.rename(columns={df.columns[0]: 'Col_1'})\n",
    "\n",
    "df_list = ｄｆ['Col_1'].to_list()\n",
    "\n",
    "df_str = ','.join(df_list)\n",
    "\n",
    "df_str = df_str.split(initial_key)[-1]\n",
    "df_str = df_str.split(end_key)[0].split(',')\n",
    "\n",
    "df_str = ''.join(df_str).split(' ')\n",
    "\n",
    "df_str = ''.join(df_str).split('|')[0]\n",
    "\n",
    "df_str_list = df_str.split(\"-\")[1:]\n",
    "\n",
    "Eigenvalues_list = []\n",
    "for n in range(len(df_str_list)):\n",
    "    list_n = df_str_list[n]\n",
    "    list_n = float(list_n) * -1\n",
    "    Eigenvalues_list.append(list_n)"
   ]
  },
  {
   "cell_type": "code",
   "execution_count": null,
   "id": "6bc37eff-52b0-4d96-95a6-4410bbc4aa0b",
   "metadata": {},
   "outputs": [],
   "source": []
  }
 ],
 "metadata": {
  "kernelspec": {
   "display_name": "Python 3",
   "language": "python",
   "name": "python3"
  },
  "language_info": {
   "codemirror_mode": {
    "name": "ipython",
    "version": 3
   },
   "file_extension": ".py",
   "mimetype": "text/x-python",
   "name": "python",
   "nbconvert_exporter": "python",
   "pygments_lexer": "ipython3",
   "version": "3.8.8"
  }
 },
 "nbformat": 4,
 "nbformat_minor": 5
}
